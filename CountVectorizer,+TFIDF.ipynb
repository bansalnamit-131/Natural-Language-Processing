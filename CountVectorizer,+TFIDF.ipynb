{
 "cells": [
  {
   "cell_type": "code",
   "execution_count": 2,
   "metadata": {
    "collapsed": true
   },
   "outputs": [],
   "source": [
    "from sklearn.feature_extraction.text import CountVectorizer"
   ]
  },
  {
   "cell_type": "code",
   "execution_count": 4,
   "metadata": {
    "collapsed": false
   },
   "outputs": [
    {
     "name": "stdout",
     "output_type": "stream",
     "text": [
      "{'is': 2, 'name': 4, 'bansal': 0, 'namit': 5, 'my': 3, 'hello': 1}\n",
      "(1, 6)\n",
      "<class 'scipy.sparse.csr.csr_matrix'>\n"
     ]
    }
   ],
   "source": [
    "text=[\"hello my name is Namit Bansal\"]\n",
    "vectorizer=CountVectorizer()\n",
    "vectorizer.fit(text)\n",
    "print(vectorizer.vocabulary_)\n",
    "vector = vectorizer.transform(text)\n",
    "print(vector.shape)\n",
    "print(type(vector))"
   ]
  },
  {
   "cell_type": "code",
   "execution_count": 5,
   "metadata": {
    "collapsed": false
   },
   "outputs": [
    {
     "name": "stdout",
     "output_type": "stream",
     "text": [
      "{'is': 2, 'name': 4, 'bansal': 0, 'namit': 5, 'my': 3, 'hello': 1}\n"
     ]
    }
   ],
   "source": [
    "print(vectorizer.vocabulary_)"
   ]
  },
  {
   "cell_type": "code",
   "execution_count": 6,
   "metadata": {
    "collapsed": true
   },
   "outputs": [],
   "source": [
    "from sklearn.feature_extraction.text import TfidfVectorizer"
   ]
  },
  {
   "cell_type": "code",
   "execution_count": 7,
   "metadata": {
    "collapsed": false
   },
   "outputs": [
    {
     "name": "stdout",
     "output_type": "stream",
     "text": [
      "{'is': 5, 'am': 0, 'bansal': 2, 'shamli': 9, 'from': 3, 'namit': 8, 'name': 7, 'study': 10, 'university': 11, 'vit': 13, 'and': 1, 'vellore': 12, 'in': 4, 'my': 6}\n",
      "[ 1.69314718  1.69314718  1.69314718  1.69314718  1.69314718  1.28768207\n",
      "  1.28768207  1.28768207  1.28768207  1.69314718  1.69314718  1.28768207\n",
      "  1.69314718  1.28768207]\n",
      "(1, 14)\n",
      "[[ 0.30904266  0.30904266  0.30904266  0.30904266  0.30904266  0.23503491\n",
      "   0.23503491  0.23503491  0.23503491  0.30904266  0.30904266  0.23503491\n",
      "   0.          0.23503491]]\n"
     ]
    }
   ],
   "source": [
    "text=[\"My name is Namit Bansal. I am from Shamli and I study in VIT University\",\" Namit is my Name\",\"VIT University vellore\"]\n",
    "vectorizer=TfidfVectorizer()\n",
    "vectorizer.fit(text)\n",
    "print(vectorizer.vocabulary_)\n",
    "print(vectorizer.idf_)\n",
    "vector=vectorizer.transform([text[0]])\n",
    "print(vector.shape)\n",
    "print(vector.toarray())"
   ]
  },
  {
   "cell_type": "markdown",
   "metadata": {},
   "source": []
  }
 ],
 "metadata": {
  "anaconda-cloud": {},
  "kernelspec": {
   "display_name": "Python [default]",
   "language": "python",
   "name": "python3"
  },
  "language_info": {
   "codemirror_mode": {
    "name": "ipython",
    "version": 3
   },
   "file_extension": ".py",
   "mimetype": "text/x-python",
   "name": "python",
   "nbconvert_exporter": "python",
   "pygments_lexer": "ipython3",
   "version": "3.5.2"
  }
 },
 "nbformat": 4,
 "nbformat_minor": 2
}
